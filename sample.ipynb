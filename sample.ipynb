{
 "cells": [
  {
   "metadata": {},
   "cell_type": "markdown",
   "source": [
    "# Extrovert vs. Introvert Behavior Data\n",
    "- This Project is about doing Exploratory Data Analysis on Extrovert vs Introvert Dataset"
   ],
   "id": "678a57b876c1b394"
  },
  {
   "metadata": {},
   "cell_type": "markdown",
   "source": "### Importing Libraries",
   "id": "6ae53958d3b18def"
  },
  {
   "metadata": {
    "ExecuteTime": {
     "end_time": "2025-06-05T11:09:52.974352Z",
     "start_time": "2025-06-05T11:09:51.939612Z"
    }
   },
   "cell_type": "code",
   "source": [
    "import numpy as np\n",
    "import pandas as pd\n",
    "import matplotlib.pyplot as plt\n",
    "import seaborn as sns"
   ],
   "id": "fbc121e30a2defb3",
   "outputs": [],
   "execution_count": 7
  },
  {
   "metadata": {},
   "cell_type": "markdown",
   "source": "### Importing Dataset",
   "id": "eb99eda2851fd20"
  },
  {
   "metadata": {
    "ExecuteTime": {
     "end_time": "2025-06-05T10:59:10.090182Z",
     "start_time": "2025-06-05T10:59:09.878167Z"
    }
   },
   "cell_type": "code",
   "source": [
    "df = pd.read_csv(\"personality_dataset.csv\")\n",
    "df.head(10)"
   ],
   "id": "22827800409ad247",
   "outputs": [
    {
     "data": {
      "text/plain": [
       "   Time_spent_Alone Stage_fear  Social_event_attendance  Going_outside  \\\n",
       "0               4.0         No                      4.0            6.0   \n",
       "1               9.0        Yes                      0.0            0.0   \n",
       "2               9.0        Yes                      1.0            2.0   \n",
       "3               0.0         No                      6.0            7.0   \n",
       "4               3.0         No                      9.0            4.0   \n",
       "5               1.0         No                      7.0            5.0   \n",
       "6               4.0         No                      9.0            NaN   \n",
       "7               2.0         No                      8.0            4.0   \n",
       "8              10.0        Yes                      1.0            3.0   \n",
       "9               0.0         No                      8.0            6.0   \n",
       "\n",
       "  Drained_after_socializing  Friends_circle_size  Post_frequency Personality  \n",
       "0                        No                 13.0             5.0   Extrovert  \n",
       "1                       Yes                  0.0             3.0   Introvert  \n",
       "2                       Yes                  5.0             2.0   Introvert  \n",
       "3                        No                 14.0             8.0   Extrovert  \n",
       "4                        No                  8.0             5.0   Extrovert  \n",
       "5                        No                  6.0             6.0   Extrovert  \n",
       "6                        No                  7.0             7.0   Extrovert  \n",
       "7                        No                  7.0             8.0   Extrovert  \n",
       "8                       Yes                  0.0             3.0   Introvert  \n",
       "9                        No                 13.0             8.0   Extrovert  "
      ],
      "text/html": [
       "<div>\n",
       "<style scoped>\n",
       "    .dataframe tbody tr th:only-of-type {\n",
       "        vertical-align: middle;\n",
       "    }\n",
       "\n",
       "    .dataframe tbody tr th {\n",
       "        vertical-align: top;\n",
       "    }\n",
       "\n",
       "    .dataframe thead th {\n",
       "        text-align: right;\n",
       "    }\n",
       "</style>\n",
       "<table border=\"1\" class=\"dataframe\">\n",
       "  <thead>\n",
       "    <tr style=\"text-align: right;\">\n",
       "      <th></th>\n",
       "      <th>Time_spent_Alone</th>\n",
       "      <th>Stage_fear</th>\n",
       "      <th>Social_event_attendance</th>\n",
       "      <th>Going_outside</th>\n",
       "      <th>Drained_after_socializing</th>\n",
       "      <th>Friends_circle_size</th>\n",
       "      <th>Post_frequency</th>\n",
       "      <th>Personality</th>\n",
       "    </tr>\n",
       "  </thead>\n",
       "  <tbody>\n",
       "    <tr>\n",
       "      <th>0</th>\n",
       "      <td>4.0</td>\n",
       "      <td>No</td>\n",
       "      <td>4.0</td>\n",
       "      <td>6.0</td>\n",
       "      <td>No</td>\n",
       "      <td>13.0</td>\n",
       "      <td>5.0</td>\n",
       "      <td>Extrovert</td>\n",
       "    </tr>\n",
       "    <tr>\n",
       "      <th>1</th>\n",
       "      <td>9.0</td>\n",
       "      <td>Yes</td>\n",
       "      <td>0.0</td>\n",
       "      <td>0.0</td>\n",
       "      <td>Yes</td>\n",
       "      <td>0.0</td>\n",
       "      <td>3.0</td>\n",
       "      <td>Introvert</td>\n",
       "    </tr>\n",
       "    <tr>\n",
       "      <th>2</th>\n",
       "      <td>9.0</td>\n",
       "      <td>Yes</td>\n",
       "      <td>1.0</td>\n",
       "      <td>2.0</td>\n",
       "      <td>Yes</td>\n",
       "      <td>5.0</td>\n",
       "      <td>2.0</td>\n",
       "      <td>Introvert</td>\n",
       "    </tr>\n",
       "    <tr>\n",
       "      <th>3</th>\n",
       "      <td>0.0</td>\n",
       "      <td>No</td>\n",
       "      <td>6.0</td>\n",
       "      <td>7.0</td>\n",
       "      <td>No</td>\n",
       "      <td>14.0</td>\n",
       "      <td>8.0</td>\n",
       "      <td>Extrovert</td>\n",
       "    </tr>\n",
       "    <tr>\n",
       "      <th>4</th>\n",
       "      <td>3.0</td>\n",
       "      <td>No</td>\n",
       "      <td>9.0</td>\n",
       "      <td>4.0</td>\n",
       "      <td>No</td>\n",
       "      <td>8.0</td>\n",
       "      <td>5.0</td>\n",
       "      <td>Extrovert</td>\n",
       "    </tr>\n",
       "    <tr>\n",
       "      <th>5</th>\n",
       "      <td>1.0</td>\n",
       "      <td>No</td>\n",
       "      <td>7.0</td>\n",
       "      <td>5.0</td>\n",
       "      <td>No</td>\n",
       "      <td>6.0</td>\n",
       "      <td>6.0</td>\n",
       "      <td>Extrovert</td>\n",
       "    </tr>\n",
       "    <tr>\n",
       "      <th>6</th>\n",
       "      <td>4.0</td>\n",
       "      <td>No</td>\n",
       "      <td>9.0</td>\n",
       "      <td>NaN</td>\n",
       "      <td>No</td>\n",
       "      <td>7.0</td>\n",
       "      <td>7.0</td>\n",
       "      <td>Extrovert</td>\n",
       "    </tr>\n",
       "    <tr>\n",
       "      <th>7</th>\n",
       "      <td>2.0</td>\n",
       "      <td>No</td>\n",
       "      <td>8.0</td>\n",
       "      <td>4.0</td>\n",
       "      <td>No</td>\n",
       "      <td>7.0</td>\n",
       "      <td>8.0</td>\n",
       "      <td>Extrovert</td>\n",
       "    </tr>\n",
       "    <tr>\n",
       "      <th>8</th>\n",
       "      <td>10.0</td>\n",
       "      <td>Yes</td>\n",
       "      <td>1.0</td>\n",
       "      <td>3.0</td>\n",
       "      <td>Yes</td>\n",
       "      <td>0.0</td>\n",
       "      <td>3.0</td>\n",
       "      <td>Introvert</td>\n",
       "    </tr>\n",
       "    <tr>\n",
       "      <th>9</th>\n",
       "      <td>0.0</td>\n",
       "      <td>No</td>\n",
       "      <td>8.0</td>\n",
       "      <td>6.0</td>\n",
       "      <td>No</td>\n",
       "      <td>13.0</td>\n",
       "      <td>8.0</td>\n",
       "      <td>Extrovert</td>\n",
       "    </tr>\n",
       "  </tbody>\n",
       "</table>\n",
       "</div>"
      ]
     },
     "execution_count": 3,
     "metadata": {},
     "output_type": "execute_result"
    }
   ],
   "execution_count": 3
  },
  {
   "metadata": {
    "ExecuteTime": {
     "end_time": "2025-06-05T11:01:31.464073Z",
     "start_time": "2025-06-05T11:01:31.368882Z"
    }
   },
   "cell_type": "code",
   "source": "df.info()",
   "id": "1b3aed6bf515c299",
   "outputs": [
    {
     "name": "stdout",
     "output_type": "stream",
     "text": [
      "<class 'pandas.core.frame.DataFrame'>\n",
      "RangeIndex: 2900 entries, 0 to 2899\n",
      "Data columns (total 8 columns):\n",
      " #   Column                     Non-Null Count  Dtype  \n",
      "---  ------                     --------------  -----  \n",
      " 0   Time_spent_Alone           2837 non-null   float64\n",
      " 1   Stage_fear                 2827 non-null   object \n",
      " 2   Social_event_attendance    2838 non-null   float64\n",
      " 3   Going_outside              2834 non-null   float64\n",
      " 4   Drained_after_socializing  2848 non-null   object \n",
      " 5   Friends_circle_size        2823 non-null   float64\n",
      " 6   Post_frequency             2835 non-null   float64\n",
      " 7   Personality                2900 non-null   object \n",
      "dtypes: float64(5), object(3)\n",
      "memory usage: 181.4+ KB\n"
     ]
    }
   ],
   "execution_count": 4
  },
  {
   "metadata": {},
   "cell_type": "markdown",
   "source": "##### We can see that we dont have any NULL values in this dataset so we dont have to clean it",
   "id": "5f6a32b49e0e6ea1"
  },
  {
   "metadata": {},
   "cell_type": "markdown",
   "source": "#### Uniques Values Per Column",
   "id": "b0d1ca1c59dd28ad"
  },
  {
   "metadata": {
    "ExecuteTime": {
     "end_time": "2025-06-05T11:18:14.633246Z",
     "start_time": "2025-06-05T11:18:14.580935Z"
    }
   },
   "cell_type": "code",
   "source": "df.nunique()",
   "id": "708c017f4f4b376e",
   "outputs": [
    {
     "data": {
      "text/plain": [
       "Time_spent_Alone             12\n",
       "Stage_fear                    2\n",
       "Social_event_attendance      11\n",
       "Going_outside                 8\n",
       "Drained_after_socializing     2\n",
       "Friends_circle_size          16\n",
       "Post_frequency               11\n",
       "Personality                   2\n",
       "dtype: int64"
      ]
     },
     "execution_count": 16,
     "metadata": {},
     "output_type": "execute_result"
    }
   ],
   "execution_count": 16
  },
  {
   "metadata": {},
   "cell_type": "markdown",
   "source": "#### Class Destribution",
   "id": "285a9a3019ecd386"
  },
  {
   "metadata": {
    "ExecuteTime": {
     "end_time": "2025-06-05T14:07:56.915405Z",
     "start_time": "2025-06-05T14:07:56.892010Z"
    }
   },
   "cell_type": "code",
   "source": "df[\"Personality\"].value_counts()",
   "id": "61d60f6b5f8a1fec",
   "outputs": [
    {
     "data": {
      "text/plain": [
       "Personality\n",
       "Extrovert    1491\n",
       "Introvert    1409\n",
       "Name: count, dtype: int64"
      ]
     },
     "execution_count": 17,
     "metadata": {},
     "output_type": "execute_result"
    }
   ],
   "execution_count": 17
  },
  {
   "metadata": {},
   "cell_type": "markdown",
   "source": "##### It is normally distributed",
   "id": "319ec161033c58e2"
  },
  {
   "metadata": {},
   "cell_type": "markdown",
   "source": "#### Separating Numerica and Categorical Columns",
   "id": "cf577895bb08ec08"
  },
  {
   "metadata": {
    "ExecuteTime": {
     "end_time": "2025-06-05T11:15:03.770717Z",
     "start_time": "2025-06-05T11:15:03.761442Z"
    }
   },
   "cell_type": "code",
   "source": [
    "num_cols = df.select_dtypes(include=\"float64\").columns\n",
    "cat_cols = df.select_dtypes(include=\"object\").drop(\"Personality\",axis=1).columns"
   ],
   "id": "fa39483718759862",
   "outputs": [],
   "execution_count": 13
  },
  {
   "metadata": {},
   "cell_type": "markdown",
   "source": "#### Value Count for Categorical Columns",
   "id": "5f2fa48f5e02377c"
  },
  {
   "metadata": {
    "ExecuteTime": {
     "end_time": "2025-06-05T14:12:02.051946Z",
     "start_time": "2025-06-05T14:12:02.040981Z"
    }
   },
   "cell_type": "code",
   "source": [
    "for col in cat_cols:\n",
    "    print(\"Categorical Column: \", col)\n",
    "    print(df[col].value_counts())\n",
    "    print()"
   ],
   "id": "7b497289ebd3d43e",
   "outputs": [
    {
     "name": "stdout",
     "output_type": "stream",
     "text": [
      "Categorical Column:  Stage_fear\n",
      "Stage_fear\n",
      "No     1417\n",
      "Yes    1410\n",
      "Name: count, dtype: int64\n",
      "\n",
      "Categorical Column:  Drained_after_socializing\n",
      "Drained_after_socializing\n",
      "No     1441\n",
      "Yes    1407\n",
      "Name: count, dtype: int64\n",
      "\n"
     ]
    }
   ],
   "execution_count": 20
  },
  {
   "metadata": {
    "ExecuteTime": {
     "end_time": "2025-06-05T11:11:42.020996Z",
     "start_time": "2025-06-05T11:11:41.714797Z"
    }
   },
   "cell_type": "code",
   "source": [
    "sns.scatterplot(hue=\"Personality\",y=\"Time_spent_Alone\",data=df,x=\"Going_outside\")\n",
    "plt.show()"
   ],
   "id": "353f9b65b09ab9a4",
   "outputs": [
    {
     "data": {
      "text/plain": [
       "<Figure size 640x480 with 1 Axes>"
      ],
      "image/png": "[encoded data removed]"
     },
     "metadata": {},
     "output_type": "display_data"
    }
   ],
   "execution_count": 12
  }
 ],
 "metadata": {
  "kernelspec": {
   "display_name": "Python 3",
   "language": "python",
   "name": "python3"
  },
  "language_info": {
   "codemirror_mode": {
    "name": "ipython",
    "version": 2
   },
   "file_extension": ".py",
   "mimetype": "text/x-python",
   "name": "python",
   "nbconvert_exporter": "python",
   "pygments_lexer": "ipython2",
   "version": "2.7.6"
  }
 },
 "nbformat": 4,
 "nbformat_minor": 5
}
